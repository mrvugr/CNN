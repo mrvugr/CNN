{
 "cells": [
  {
   "cell_type": "code",
   "execution_count": 1,
   "metadata": {},
   "outputs": [],
   "source": [
    "import numpy as np \n",
    "import pandas as pd\n",
    "import matplotlib.pyplot as plt\n",
    "from sklearn.model_selection import train_test_split\n",
    "from tensorflow.keras.layers import Flatten, MaxPooling2D, Dense, Conv2D, Dropout\n",
    "from tensorflow.keras import Sequential\n",
    "from tensorflow.keras.utils import to_categorical\n",
    "from tensorflow.keras.preprocessing.image import ImageDataGenerator"
   ]
  },
  {
   "cell_type": "code",
   "execution_count": 2,
   "metadata": {},
   "outputs": [],
   "source": [
    "datagen = ImageDataGenerator(rescale=1./255.,\n",
    "                            horizontal_flip=True,\n",
    "                            brightness_range=[0.4,1.5],\n",
    "                            width_shift_range=0.1,\n",
    "                            height_shift_range=0.1)"
   ]
  },
  {
   "cell_type": "code",
   "execution_count": 3,
   "metadata": {},
   "outputs": [
    {
     "name": "stdout",
     "output_type": "stream",
     "text": [
      "Found 14034 images belonging to 6 classes.\n",
      "Found 3000 images belonging to 6 classes.\n"
     ]
    }
   ],
   "source": [
    "train_generator = datagen.flow_from_directory('//DESKTOP-45IP38J/Users/Merve/Desktop/seg_train/seg_train',\n",
    "                                        batch_size=512,\n",
    "                                        class_mode='categorical',\n",
    "                                        target_size=(150,150),\n",
    "                                        color_mode='rgb')\n",
    "val_generator = datagen.flow_from_directory('//DESKTOP-45IP38J/Users/Merve/Desktop/seg_test/seg_test/',\n",
    "                                        batch_size=512,\n",
    "                                        class_mode='categorical',\n",
    "                                        target_size=(150,150))"
   ]
  },
  {
   "cell_type": "code",
   "execution_count": 4,
   "metadata": {},
   "outputs": [
    {
     "name": "stdout",
     "output_type": "stream",
     "text": [
      "Model: \"sequential\"\n",
      "_________________________________________________________________\n",
      "Layer (type)                 Output Shape              Param #   \n",
      "=================================================================\n",
      "conv2d (Conv2D)              (None, 148, 148, 32)      896       \n",
      "_________________________________________________________________\n",
      "max_pooling2d (MaxPooling2D) (None, 74, 74, 32)        0         \n",
      "_________________________________________________________________\n",
      "dropout (Dropout)            (None, 74, 74, 32)        0         \n",
      "_________________________________________________________________\n",
      "conv2d_1 (Conv2D)            (None, 72, 72, 64)        18496     \n",
      "_________________________________________________________________\n",
      "max_pooling2d_1 (MaxPooling2 (None, 36, 36, 64)        0         \n",
      "_________________________________________________________________\n",
      "dropout_1 (Dropout)          (None, 36, 36, 64)        0         \n",
      "_________________________________________________________________\n",
      "conv2d_2 (Conv2D)            (None, 34, 34, 128)       73856     \n",
      "_________________________________________________________________\n",
      "max_pooling2d_2 (MaxPooling2 (None, 17, 17, 128)       0         \n",
      "_________________________________________________________________\n",
      "dropout_2 (Dropout)          (None, 17, 17, 128)       0         \n",
      "_________________________________________________________________\n",
      "flatten (Flatten)            (None, 36992)             0         \n",
      "_________________________________________________________________\n",
      "dense (Dense)                (None, 256)               9470208   \n",
      "_________________________________________________________________\n",
      "dropout_3 (Dropout)          (None, 256)               0         \n",
      "_________________________________________________________________\n",
      "dense_1 (Dense)              (None, 512)               131584    \n",
      "_________________________________________________________________\n",
      "dense_2 (Dense)              (None, 6)                 3078      \n",
      "=================================================================\n",
      "Total params: 9,698,118\n",
      "Trainable params: 9,698,118\n",
      "Non-trainable params: 0\n",
      "_________________________________________________________________\n"
     ]
    }
   ],
   "source": [
    "model = Sequential([Conv2D(32, input_shape=(150,150,3), kernel_size=(3,3), activation='relu'),\n",
    "                   MaxPooling2D(pool_size=(2,2)),\n",
    "                   Dropout(0.25),\n",
    "                   Conv2D(64, (3,3), activation='relu'),\n",
    "                   MaxPooling2D(pool_size=(2,2)),\n",
    "                   Dropout(0.25),\n",
    "                   Conv2D(128, (3,3), activation='relu'),\n",
    "                   MaxPooling2D(2,2),\n",
    "                   Dropout(0.25),\n",
    "                   Flatten(),\n",
    "                   Dense(units = 256, activation='relu'),\n",
    "                   Dropout(0.4),\n",
    "                   Dense(units = 512, activation='relu')])\n",
    "\n",
    "model.add(Dense(units = 6, activation='softmax'))\n",
    "model.compile(loss='categorical_crossentropy',\n",
    "              optimizer='adam',\n",
    "              metrics=['accuracy'])\n",
    "model.summary()"
   ]
  },
  {
   "cell_type": "code",
   "execution_count": null,
   "metadata": {},
   "outputs": [
    {
     "name": "stdout",
     "output_type": "stream",
     "text": [
      "Epoch 1/50\n",
      "28/28 [==============================] - 1285s 45s/step - loss: 2.1801 - accuracy: 0.1965 - val_loss: 1.2884 - val_accuracy: 0.4860\n",
      "Epoch 2/50\n",
      "28/28 [==============================] - 1192s 43s/step - loss: 1.2403 - accuracy: 0.5143 - val_loss: 1.1290 - val_accuracy: 0.5623\n",
      "Epoch 3/50\n",
      "28/28 [==============================] - 1197s 43s/step - loss: 1.1067 - accuracy: 0.5677 - val_loss: 1.0198 - val_accuracy: 0.6107\n",
      "Epoch 4/50\n",
      "28/28 [==============================] - 1215s 43s/step - loss: 1.0113 - accuracy: 0.6075 - val_loss: 0.9422 - val_accuracy: 0.6383\n",
      "Epoch 5/50\n",
      "28/28 [==============================] - 1219s 44s/step - loss: 0.9196 - accuracy: 0.6495 - val_loss: 0.8878 - val_accuracy: 0.6880\n",
      "Epoch 6/50\n",
      "28/28 [==============================] - 1190s 42s/step - loss: 0.8490 - accuracy: 0.6819 - val_loss: 0.8148 - val_accuracy: 0.7067\n",
      "Epoch 7/50\n",
      "28/28 [==============================] - 1200s 43s/step - loss: 0.8134 - accuracy: 0.6998 - val_loss: 0.7638 - val_accuracy: 0.7153\n",
      "Epoch 8/50\n",
      "28/28 [==============================] - 1194s 43s/step - loss: 0.7774 - accuracy: 0.7143 - val_loss: 0.7612 - val_accuracy: 0.7253\n",
      "Epoch 9/50\n",
      "28/28 [==============================] - 1187s 42s/step - loss: 0.7462 - accuracy: 0.7313 - val_loss: 0.6922 - val_accuracy: 0.7433\n",
      "Epoch 10/50\n",
      "28/28 [==============================] - 1184s 42s/step - loss: 0.6997 - accuracy: 0.7437 - val_loss: 0.6770 - val_accuracy: 0.7513\n",
      "Epoch 11/50\n",
      "28/28 [==============================] - 1190s 43s/step - loss: 0.6898 - accuracy: 0.7489 - val_loss: 0.6648 - val_accuracy: 0.7570\n",
      "Epoch 12/50\n",
      "28/28 [==============================] - 1186s 43s/step - loss: 0.6575 - accuracy: 0.7610 - val_loss: 0.5939 - val_accuracy: 0.7793\n",
      "Epoch 13/50\n",
      "28/28 [==============================] - 1183s 42s/step - loss: 0.6570 - accuracy: 0.7643 - val_loss: 0.7429 - val_accuracy: 0.7380\n",
      "Epoch 14/50\n",
      "28/28 [==============================] - 1186s 42s/step - loss: 0.6417 - accuracy: 0.7658 - val_loss: 0.5825 - val_accuracy: 0.7910\n",
      "Epoch 15/50\n",
      "28/28 [==============================] - 1190s 42s/step - loss: 0.6143 - accuracy: 0.7701 - val_loss: 0.6522 - val_accuracy: 0.7637\n",
      "Epoch 16/50\n",
      "28/28 [==============================] - 1188s 42s/step - loss: 0.5966 - accuracy: 0.7841 - val_loss: 0.5294 - val_accuracy: 0.8093\n",
      "Epoch 17/50\n",
      "28/28 [==============================] - 1183s 42s/step - loss: 0.5792 - accuracy: 0.7898 - val_loss: 0.5629 - val_accuracy: 0.7963\n",
      "Epoch 18/50\n",
      "28/28 [==============================] - 1259s 45s/step - loss: 0.5400 - accuracy: 0.8048 - val_loss: 0.5397 - val_accuracy: 0.8020\n",
      "Epoch 19/50\n",
      "28/28 [==============================] - 1692s 60s/step - loss: 0.5504 - accuracy: 0.8029 - val_loss: 0.5505 - val_accuracy: 0.8023\n",
      "Epoch 20/50\n",
      "28/28 [==============================] - 1713s 63s/step - loss: 0.5685 - accuracy: 0.7992 - val_loss: 0.5028 - val_accuracy: 0.8157\n",
      "Epoch 21/50\n",
      "28/28 [==============================] - 1886s 67s/step - loss: 0.5287 - accuracy: 0.8110 - val_loss: 0.4942 - val_accuracy: 0.8197\n",
      "Epoch 22/50\n",
      "28/28 [==============================] - ETA: 0s - loss: 0.5140 - accuracy: 0.8160 "
     ]
    }
   ],
   "source": [
    "history = model.fit(train_generator, batch_size=512,\n",
    "          epochs=50,\n",
    "          verbose=1,\n",
    "          validation_data=val_generator)"
   ]
  },
  {
   "cell_type": "code",
   "execution_count": null,
   "metadata": {},
   "outputs": [],
   "source": [
    "train_generator.class_indices"
   ]
  },
  {
   "cell_type": "code",
   "execution_count": null,
   "metadata": {},
   "outputs": [],
   "source": [
    "results = model.evaluate(val_generator)\n",
    "print(\"test loss, test acc:\", results)"
   ]
  },
  {
   "cell_type": "code",
   "execution_count": null,
   "metadata": {},
   "outputs": [],
   "source": [
    "import matplotlib.pyplot as plt\n",
    "plt.plot(history.history['val_accuracy'], label='Validation Accuracy')\n",
    "plt.plot(history.history['accuracy'], label='Accuracy')\n",
    "plt.xlabel('Epochs')\n",
    "plt.ylabel('Accuracy')\n",
    "plt.legend(borderpad=2)\n",
    "plt.show()\n",
    "plt.plot(history.history['val_loss'], label='Validation Loss')\n",
    "plt.plot(history.history['loss'], label='Loss')\n",
    "plt.xlabel('Epochs')\n",
    "plt.ylabel('Loss')\n",
    "plt.legend(borderpad=2)\n",
    "plt.show()"
   ]
  },
  {
   "cell_type": "code",
   "execution_count": null,
   "metadata": {},
   "outputs": [],
   "source": [
    "old_labels = train_generator.class_indices\n",
    "labels = dict((v,k) for k,v in old_labels.items())\n",
    "labels"
   ]
  },
  {
   "cell_type": "code",
   "execution_count": null,
   "metadata": {},
   "outputs": [],
   "source": [
    "import cv2\n",
    "\n",
    "from glob import glob\n",
    "names = glob('../input/intel-image-classification/seg_pred/seg_pred/*')\n",
    "\n",
    "plt.figure(figsize=(50,50))\n",
    "\n",
    "for i in range(87,150):\n",
    "    plt.subplot(13,5,i-86)\n",
    "    img = cv2.imread(names[i])\n",
    "    img = cv2.resize(img,(150,150))\n",
    "    plt.imshow(img)\n",
    "    img = np.reshape(img,[1,150,150,3])\n",
    "    plt.title(labels[model.predict(img).argmax()])\n",
    "plt.show()"
   ]
  },
  {
   "cell_type": "code",
   "execution_count": null,
   "metadata": {},
   "outputs": [],
   "source": []
  }
 ],
 "metadata": {
  "kernelspec": {
   "display_name": "Python 3",
   "language": "python",
   "name": "python3"
  },
  "language_info": {
   "codemirror_mode": {
    "name": "ipython",
    "version": 3
   },
   "file_extension": ".py",
   "mimetype": "text/x-python",
   "name": "python",
   "nbconvert_exporter": "python",
   "pygments_lexer": "ipython3",
   "version": "3.8.5"
  }
 },
 "nbformat": 4,
 "nbformat_minor": 4
}
